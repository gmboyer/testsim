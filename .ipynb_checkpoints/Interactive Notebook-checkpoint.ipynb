{
 "cells": [
  {
   "cell_type": "markdown",
   "metadata": {},
   "source": [
    "\"CORPSE ENZYME Tabletop Roleplaying Game\" COMBAT SIMLULATOR\n",
    "---\n",
    "Grayson Boyer\n",
    "\n",
    "Markdown instructions go here."
   ]
  },
  {
   "cell_type": "code",
   "execution_count": 1,
   "metadata": {},
   "outputs": [
    {
     "data": {
      "application/vnd.jupyter.widget-view+json": {
       "model_id": "bbfedb3b35a6490e9a5e12ca50e128cb",
       "version_major": 2,
       "version_minor": 0
      },
      "text/html": [
       "<p>Failed to display Jupyter Widget of type <code>VBox</code>.</p>\n",
       "<p>\n",
       "  If you're reading this message in the Jupyter Notebook or JupyterLab Notebook, it may mean\n",
       "  that the widgets JavaScript is still loading. If this message persists, it\n",
       "  likely means that the widgets JavaScript library is either not installed or\n",
       "  not enabled. See the <a href=\"https://ipywidgets.readthedocs.io/en/stable/user_install.html\">Jupyter\n",
       "  Widgets Documentation</a> for setup instructions.\n",
       "</p>\n",
       "<p>\n",
       "  If you're reading this message in another frontend (for example, a static\n",
       "  rendering on GitHub or <a href=\"https://nbviewer.jupyter.org/\">NBViewer</a>),\n",
       "  it may mean that your frontend doesn't currently support widgets.\n",
       "</p>\n"
      ],
      "text/plain": [
       "VBox(children=(Tab(children=(VBox(children=(HBox(children=(Text(value='Rhonda', description='Name 1:', placeholder='Type something'), Dropdown(description='Sex:', index=1, options=('male', 'female'), value='female'))), HBox(children=(VBox(children=(IntSlider(value=6, description='STR', max=12, min=4, step=2), IntSlider(value=6, description='DEX', max=12, min=4, step=2), IntSlider(value=6, description='CON', max=12, min=4, step=2), IntSlider(value=6, description='WIS', max=12, min=4, step=2), IntSlider(value=6, description='INT', max=12, min=4, step=2), IntSlider(value=6, description='CHA', max=12, min=4, step=2), IntSlider(value=0, description='LCK', max=4, step=4))), VBox(children=(SelectMultiple(description='Special Abilities', options=('armor training', 'berserk', 'combat dicipline', 'sneak attack'), value=()), Dropdown(description='Fightstyle:', options=('none', 'well-rounded', 'powerful', 'finesse', 'dual-weapon', 'defensive'), value='none'), Dropdown(description='Armor:', options=('none', 'padded', 'chainmail', 'platemail'), value='none'), Checkbox(value=False, description='Dual-Wield?'))))))), VBox(children=(HBox(children=(Text(value='Rufus', description='Name 1:', placeholder='Type something'), Dropdown(description='Sex:', options=('male', 'female'), value='male'))), HBox(children=(VBox(children=(IntSlider(value=6, description='STR', max=12, min=4, step=2), IntSlider(value=6, description='DEX', max=12, min=4, step=2), IntSlider(value=6, description='CON', max=12, min=4, step=2), IntSlider(value=6, description='WIS', max=12, min=4, step=2), IntSlider(value=6, description='INT', max=12, min=4, step=2), IntSlider(value=6, description='CHA', max=12, min=4, step=2), IntSlider(value=0, description='LCK', max=4, step=4))), VBox(children=(SelectMultiple(description='Special Abilities', options=('armor training', 'berserk', 'combat dicipline', 'sneak attack'), value=()), Dropdown(description='Fightstyle:', options=('none', 'well-rounded', 'powerful', 'finesse', 'dual-weapon', 'defensive'), value='none'), Dropdown(description='Armor:', options=('none', 'padded', 'chainmail', 'platemail'), value='none'), Checkbox(value=False, description='Dual-Wield?')))))))), _titles={'0': 'Combatant 1', '1': 'Combatant 2'}), IntSlider(value=2, description='# of battles:', max=9999, min=2), IntSlider(value=0, description='Start distance:', max=20), Button(description='Battle!', style=ButtonStyle())))"
      ]
     },
     "metadata": {},
     "output_type": "display_data"
    }
   ],
   "source": [
    "from battle_monte_interactive_interface import main\n",
    "main()"
   ]
  },
  {
   "cell_type": "code",
   "execution_count": null,
   "metadata": {},
   "outputs": [],
   "source": []
  }
 ],
 "metadata": {
  "kernelspec": {
   "display_name": "Python 3",
   "language": "python",
   "name": "python3"
  },
  "language_info": {
   "codemirror_mode": {
    "name": "ipython",
    "version": 3
   },
   "file_extension": ".py",
   "mimetype": "text/x-python",
   "name": "python",
   "nbconvert_exporter": "python",
   "pygments_lexer": "ipython3",
   "version": "3.6.4"
  }
 },
 "nbformat": 4,
 "nbformat_minor": 2
}
